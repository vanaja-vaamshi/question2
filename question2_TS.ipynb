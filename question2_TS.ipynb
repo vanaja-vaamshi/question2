{
  "nbformat": 4,
  "nbformat_minor": 0,
  "metadata": {
    "colab": {
      "name": "question2 TS",
      "provenance": [],
      "authorship_tag": "ABX9TyOABavk6RWVozA1dG/AsxQz",
      "include_colab_link": true
    },
    "kernelspec": {
      "name": "python3",
      "display_name": "Python 3"
    },
    "language_info": {
      "name": "python"
    }
  },
  "cells": [
    {
      "cell_type": "markdown",
      "metadata": {
        "id": "view-in-github",
        "colab_type": "text"
      },
      "source": [
        "<a href=\"https://colab.research.google.com/github/vanaja-vaamshi/question2/blob/main/question2_TS.ipynb\" target=\"_parent\"><img src=\"https://colab.research.google.com/assets/colab-badge.svg\" alt=\"Open In Colab\"/></a>"
      ]
    },
    {
      "cell_type": "code",
      "metadata": {
        "colab": {
          "base_uri": "https://localhost:8080/"
        },
        "id": "FKXodowBYs4O",
        "outputId": "0b8da472-7fa5-44f6-ed8d-ca29f5194c5a"
      },
      "source": [
        "def square_digits(num):\n",
        "    # Squares the digits of a number, eg 44=4^2+4^2=32\n",
        "    total = 0\n",
        "    while num:\n",
        "        total += (num % 10) ** 2\n",
        "        num //= 10\n",
        "    return total\n",
        "\n",
        "\n",
        "def single_chain(num, square_dict):\n",
        "    # Evaluates a single chain untill 1 or 89\n",
        "    temp_nums = []\n",
        "    while True:\n",
        "        if num in [1, 89]:\n",
        "            break\n",
        "        try:\n",
        "            # If we hit a previously calculated value, break\n",
        "            num = square_dict[num]\n",
        "            break\n",
        "        except: \n",
        "            temp_nums.append(num)\n",
        "            num = square_digits(num)\n",
        "    for i in temp_nums:\n",
        "        # Backtrack through the chain saving each number\n",
        "        square_dict[i] = num\n",
        "    return num == 1, square_dict\n",
        "\n",
        "\n",
        "def pre_calculation(limit):\n",
        "    # Precalculates the first values\n",
        "    square_dict = dict()\n",
        "    for i in range(1,limit+1):\n",
        "        num = i\n",
        "        while num not in [1,89]:\n",
        "            num = square_digits(num)\n",
        "        if num == 1:\n",
        "            square_dict[i] = 1\n",
        "        else:\n",
        "            square_dict[i] = 89\n",
        "    return square_dict\n",
        "\n",
        "\n",
        "def square_chains(limit, square_dict):\n",
        "    # Finds the number of chains ending in 1 and 89\n",
        "    count_1 = 0\n",
        "    count_89 = 0\n",
        "    for i in range(1, limit):\n",
        "        boolean, square_dict = single_chain(i, square_dict)\n",
        "        if boolean:\n",
        "            count_1 += 1\n",
        "        else:\n",
        "            count_89 += 1\n",
        "    print (\"Chains ending in 1: \", count_1)\n",
        "    print (\"Chains ending in 89: \", count_89)\n",
        "\n",
        "\n",
        "if __name__ == '__main__':\n",
        "    square_dict = pre_calculation(11)\n",
        "    square_chains(11,square_dict)"
      ],
      "execution_count": 4,
      "outputs": [
        {
          "output_type": "stream",
          "name": "stdout",
          "text": [
            "Chains ending in 1:  3\n",
            "Chains ending in 89:  7\n"
          ]
        }
      ]
    }
  ]
}